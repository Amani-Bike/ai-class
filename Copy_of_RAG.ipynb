{
  "nbformat": 4,
  "nbformat_minor": 0,
  "metadata": {
    "colab": {
      "provenance": [],
      "include_colab_link": true
    },
    "kernelspec": {
      "name": "python3",
      "display_name": "Python 3"
    },
    "language_info": {
      "name": "python"
    }
  },
  "cells": [
    {
      "cell_type": "markdown",
      "metadata": {
        "id": "view-in-github",
        "colab_type": "text"
      },
      "source": [
        "<a href=\"https://colab.research.google.com/github/Amani-Bike/ai-class/blob/main/Copy_of_RAG.ipynb\" target=\"_parent\"><img src=\"https://colab.research.google.com/assets/colab-badge.svg\" alt=\"Open In Colab\"/></a>"
      ]
    },
    {
      "cell_type": "code",
      "source": [
        "!pip install langchain-openai -q\n",
        "!pip install langchain-community -q\n",
        "!pip install langchain-experimental -q\n",
        "!pip install pypdf\n",
        "!pip install gradio --upgrade"
      ],
      "metadata": {
        "colab": {
          "base_uri": "https://localhost:8080/"
        },
        "id": "LvCdfr8R0DLt",
        "outputId": "a800be1c-9b7e-477b-c516-9a1d56a5daee"
      },
      "execution_count": 33,
      "outputs": [
        {
          "output_type": "stream",
          "name": "stdout",
          "text": [
            "Requirement already satisfied: pypdf in /usr/local/lib/python3.12/dist-packages (6.0.0)\n",
            "Requirement already satisfied: gradio in /usr/local/lib/python3.12/dist-packages (5.45.0)\n",
            "Requirement already satisfied: aiofiles<25.0,>=22.0 in /usr/local/lib/python3.12/dist-packages (from gradio) (24.1.0)\n",
            "Requirement already satisfied: anyio<5.0,>=3.0 in /usr/local/lib/python3.12/dist-packages (from gradio) (4.10.0)\n",
            "Requirement already satisfied: brotli>=1.1.0 in /usr/local/lib/python3.12/dist-packages (from gradio) (1.1.0)\n",
            "Requirement already satisfied: fastapi<1.0,>=0.115.2 in /usr/local/lib/python3.12/dist-packages (from gradio) (0.116.1)\n",
            "Requirement already satisfied: ffmpy in /usr/local/lib/python3.12/dist-packages (from gradio) (0.6.1)\n",
            "Requirement already satisfied: gradio-client==1.13.0 in /usr/local/lib/python3.12/dist-packages (from gradio) (1.13.0)\n",
            "Requirement already satisfied: groovy~=0.1 in /usr/local/lib/python3.12/dist-packages (from gradio) (0.1.2)\n",
            "Requirement already satisfied: httpx<1.0,>=0.24.1 in /usr/local/lib/python3.12/dist-packages (from gradio) (0.28.1)\n",
            "Requirement already satisfied: huggingface-hub<1.0,>=0.33.5 in /usr/local/lib/python3.12/dist-packages (from gradio) (0.34.4)\n",
            "Requirement already satisfied: jinja2<4.0 in /usr/local/lib/python3.12/dist-packages (from gradio) (3.1.6)\n",
            "Requirement already satisfied: markupsafe<4.0,>=2.0 in /usr/local/lib/python3.12/dist-packages (from gradio) (3.0.2)\n",
            "Requirement already satisfied: numpy<3.0,>=1.0 in /usr/local/lib/python3.12/dist-packages (from gradio) (2.0.2)\n",
            "Requirement already satisfied: orjson~=3.0 in /usr/local/lib/python3.12/dist-packages (from gradio) (3.11.3)\n",
            "Requirement already satisfied: packaging in /usr/local/lib/python3.12/dist-packages (from gradio) (25.0)\n",
            "Requirement already satisfied: pandas<3.0,>=1.0 in /usr/local/lib/python3.12/dist-packages (from gradio) (2.2.2)\n",
            "Requirement already satisfied: pillow<12.0,>=8.0 in /usr/local/lib/python3.12/dist-packages (from gradio) (11.3.0)\n",
            "Requirement already satisfied: pydantic<2.12,>=2.0 in /usr/local/lib/python3.12/dist-packages (from gradio) (2.11.7)\n",
            "Requirement already satisfied: pydub in /usr/local/lib/python3.12/dist-packages (from gradio) (0.25.1)\n",
            "Requirement already satisfied: python-multipart>=0.0.18 in /usr/local/lib/python3.12/dist-packages (from gradio) (0.0.20)\n",
            "Requirement already satisfied: pyyaml<7.0,>=5.0 in /usr/local/lib/python3.12/dist-packages (from gradio) (6.0.2)\n",
            "Requirement already satisfied: ruff>=0.9.3 in /usr/local/lib/python3.12/dist-packages (from gradio) (0.12.12)\n",
            "Requirement already satisfied: safehttpx<0.2.0,>=0.1.6 in /usr/local/lib/python3.12/dist-packages (from gradio) (0.1.6)\n",
            "Requirement already satisfied: semantic-version~=2.0 in /usr/local/lib/python3.12/dist-packages (from gradio) (2.10.0)\n",
            "Requirement already satisfied: starlette<1.0,>=0.40.0 in /usr/local/lib/python3.12/dist-packages (from gradio) (0.47.3)\n",
            "Requirement already satisfied: tomlkit<0.14.0,>=0.12.0 in /usr/local/lib/python3.12/dist-packages (from gradio) (0.13.3)\n",
            "Requirement already satisfied: typer<1.0,>=0.12 in /usr/local/lib/python3.12/dist-packages (from gradio) (0.17.3)\n",
            "Requirement already satisfied: typing-extensions~=4.0 in /usr/local/lib/python3.12/dist-packages (from gradio) (4.15.0)\n",
            "Requirement already satisfied: uvicorn>=0.14.0 in /usr/local/lib/python3.12/dist-packages (from gradio) (0.35.0)\n",
            "Requirement already satisfied: fsspec in /usr/local/lib/python3.12/dist-packages (from gradio-client==1.13.0->gradio) (2025.3.0)\n",
            "Requirement already satisfied: websockets<16.0,>=10.0 in /usr/local/lib/python3.12/dist-packages (from gradio-client==1.13.0->gradio) (15.0.1)\n",
            "Requirement already satisfied: idna>=2.8 in /usr/local/lib/python3.12/dist-packages (from anyio<5.0,>=3.0->gradio) (3.10)\n",
            "Requirement already satisfied: sniffio>=1.1 in /usr/local/lib/python3.12/dist-packages (from anyio<5.0,>=3.0->gradio) (1.3.1)\n",
            "Requirement already satisfied: certifi in /usr/local/lib/python3.12/dist-packages (from httpx<1.0,>=0.24.1->gradio) (2025.8.3)\n",
            "Requirement already satisfied: httpcore==1.* in /usr/local/lib/python3.12/dist-packages (from httpx<1.0,>=0.24.1->gradio) (1.0.9)\n",
            "Requirement already satisfied: h11>=0.16 in /usr/local/lib/python3.12/dist-packages (from httpcore==1.*->httpx<1.0,>=0.24.1->gradio) (0.16.0)\n",
            "Requirement already satisfied: filelock in /usr/local/lib/python3.12/dist-packages (from huggingface-hub<1.0,>=0.33.5->gradio) (3.19.1)\n",
            "Requirement already satisfied: requests in /usr/local/lib/python3.12/dist-packages (from huggingface-hub<1.0,>=0.33.5->gradio) (2.32.5)\n",
            "Requirement already satisfied: tqdm>=4.42.1 in /usr/local/lib/python3.12/dist-packages (from huggingface-hub<1.0,>=0.33.5->gradio) (4.67.1)\n",
            "Requirement already satisfied: hf-xet<2.0.0,>=1.1.3 in /usr/local/lib/python3.12/dist-packages (from huggingface-hub<1.0,>=0.33.5->gradio) (1.1.9)\n",
            "Requirement already satisfied: python-dateutil>=2.8.2 in /usr/local/lib/python3.12/dist-packages (from pandas<3.0,>=1.0->gradio) (2.9.0.post0)\n",
            "Requirement already satisfied: pytz>=2020.1 in /usr/local/lib/python3.12/dist-packages (from pandas<3.0,>=1.0->gradio) (2025.2)\n",
            "Requirement already satisfied: tzdata>=2022.7 in /usr/local/lib/python3.12/dist-packages (from pandas<3.0,>=1.0->gradio) (2025.2)\n",
            "Requirement already satisfied: annotated-types>=0.6.0 in /usr/local/lib/python3.12/dist-packages (from pydantic<2.12,>=2.0->gradio) (0.7.0)\n",
            "Requirement already satisfied: pydantic-core==2.33.2 in /usr/local/lib/python3.12/dist-packages (from pydantic<2.12,>=2.0->gradio) (2.33.2)\n",
            "Requirement already satisfied: typing-inspection>=0.4.0 in /usr/local/lib/python3.12/dist-packages (from pydantic<2.12,>=2.0->gradio) (0.4.1)\n",
            "Requirement already satisfied: click>=8.0.0 in /usr/local/lib/python3.12/dist-packages (from typer<1.0,>=0.12->gradio) (8.2.1)\n",
            "Requirement already satisfied: shellingham>=1.3.0 in /usr/local/lib/python3.12/dist-packages (from typer<1.0,>=0.12->gradio) (1.5.4)\n",
            "Requirement already satisfied: rich>=10.11.0 in /usr/local/lib/python3.12/dist-packages (from typer<1.0,>=0.12->gradio) (13.9.4)\n",
            "Requirement already satisfied: six>=1.5 in /usr/local/lib/python3.12/dist-packages (from python-dateutil>=2.8.2->pandas<3.0,>=1.0->gradio) (1.17.0)\n",
            "Requirement already satisfied: markdown-it-py>=2.2.0 in /usr/local/lib/python3.12/dist-packages (from rich>=10.11.0->typer<1.0,>=0.12->gradio) (4.0.0)\n",
            "Requirement already satisfied: pygments<3.0.0,>=2.13.0 in /usr/local/lib/python3.12/dist-packages (from rich>=10.11.0->typer<1.0,>=0.12->gradio) (2.19.2)\n",
            "Requirement already satisfied: charset_normalizer<4,>=2 in /usr/local/lib/python3.12/dist-packages (from requests->huggingface-hub<1.0,>=0.33.5->gradio) (3.4.3)\n",
            "Requirement already satisfied: urllib3<3,>=1.21.1 in /usr/local/lib/python3.12/dist-packages (from requests->huggingface-hub<1.0,>=0.33.5->gradio) (2.5.0)\n",
            "Requirement already satisfied: mdurl~=0.1 in /usr/local/lib/python3.12/dist-packages (from markdown-it-py>=2.2.0->rich>=10.11.0->typer<1.0,>=0.12->gradio) (0.1.2)\n"
          ]
        }
      ]
    },
    {
      "cell_type": "code",
      "execution_count": 34,
      "metadata": {
        "id": "4iZ20v410APc"
      },
      "outputs": [],
      "source": [
        "from google.colab import userdata\n",
        "from langchain_openai import OpenAIEmbeddings\n",
        "class ZhipuAI_embeddings:\n",
        "    def __init__(self, model_name: str = 'embedding-3'):\n",
        "        self.model_name = model_name\n",
        "        self.base_url = \"https://open.bigmodel.cn/api/paas/v4\"\n",
        "        self.embedding = self._init_model()\n",
        "    def _init_model(self) -> OpenAIEmbeddings:\n",
        "        return OpenAIEmbeddings(\n",
        "            model=self.model_name,\n",
        "            base_url=self.base_url,\n",
        "            api_key=userdata.get(\"APIkey\")\n",
        "        )\n",
        "embeddings =ZhipuAI_embeddings().embedding"
      ]
    },
    {
      "cell_type": "code",
      "source": [
        "from langchain_openai import ChatOpenAI\n",
        "client  = ChatOpenAI(\n",
        "    base_url =\"https://open.bigmodel.cn/api/paas/v4/\",\n",
        "    api_key = userdata.get(\"APIkey\"),\n",
        "    model = \"glm-4.5\"\n",
        ")"
      ],
      "metadata": {
        "id": "1W106Ob84HkJ"
      },
      "execution_count": 35,
      "outputs": []
    },
    {
      "cell_type": "code",
      "source": [
        "from langchain_core.tools import tool\n",
        "@tool\n",
        "def define_term(term: str):\n",
        "    \"\"\"Return a one-sentence definition of a given AI term (e.g., “Transformer”, “Embedding”).\"\"\"\n",
        "    definitions = {\n",
        "        \"transformer\": \"A Transformer is a neural network architecture that uses self-attention mechanisms to process sequential data, widely used in natural language processing tasks like translation and text generation.\",\n",
        "        \"embedding\": \"An embedding is a dense vector representation of words, phrases, or other data that captures their semantic meaning for use in machine learning models.\"\n",
        "    }\n",
        "    return definitions.get(term.lower(), f\"No definition found for '{term}'.\")\n",
        "\n",
        "@tool\n",
        "def summarize_notes(text: str):\n",
        "    \"\"\"Take student notes (a paragraph) and return a concise summary (2–3 sentences).\"\"\"\n",
        "    prompt = PromptTemplate.from_template(\n",
        "        \"Summarize the following notes in 2-3 sentences:\\n\\n{notes}\"\n",
        "    )\n",
        "    chain = prompt | client\n",
        "    response = chain.invoke({\"notes\": text})\n",
        "    return response.content"
      ],
      "metadata": {
        "id": "4oQxi8PWLGBU"
      },
      "execution_count": 36,
      "outputs": []
    },
    {
      "cell_type": "code",
      "source": [
        "client = client.bind_tools([define_term, summarize_notes])"
      ],
      "metadata": {
        "id": "fQch5MJoL8XQ"
      },
      "execution_count": 37,
      "outputs": []
    },
    {
      "cell_type": "code",
      "source": [
        "from langchain_core.documents import Document\n",
        "from langchain_experimental.text_splitter import SemanticChunker\n",
        "from langchain_community.document_loaders.text import TextLoader\n",
        "from langchain_community.document_loaders import PyPDFLoader\n",
        "def doc_parsing(file_path) -> list[Document]:\n",
        "    if file_path.endswith(\"pdf\"):\n",
        "        doc = PyPDFLoader(file_path=file_path)\n",
        "        doc = doc.load()\n",
        "        semantic_splitter = SemanticChunker(\n",
        "            embeddings=embeddings,\n",
        "            breakpoint_threshold_type=\"percentile\",\n",
        "            breakpoint_threshold_amount=95\n",
        "        )\n",
        "        full_text = doc[0].page_content if doc else \"\"\n",
        "        if not full_text:\n",
        "            return []\n",
        "        raw_chunks = semantic_splitter.split_text(full_text)\n",
        "        print(f\" the number of chucks :{len(raw_chunks)}\")\n",
        "        docs = [Document(page_content=chunk, metadata=doc[0].metadata) for chunk in raw_chunks]\n",
        "        return docs\n",
        "    elif file_path.endswith(\".txt\"):\n",
        "        doc = TextLoader(file_path=file_path)\n",
        "        doc =doc.load()\n",
        "        semantic_splitter = SemanticChunker(\n",
        "            embeddings=embeddings,\n",
        "            breakpoint_threshold_type=\"percentile\",\n",
        "            breakpoint_threshold_amount=95\n",
        "        )\n",
        "        full_text = doc[0].page_content if doc else \"\"\n",
        "        if not full_text:\n",
        "            return []\n",
        "        raw_chunks = semantic_splitter.split_text(full_text)\n",
        "        docs = [Document(page_content=chunk, metadata=doc[0].metadata) for chunk in raw_chunks]\n",
        "        return docs\n",
        "    else:\n",
        "       return []"
      ],
      "metadata": {
        "id": "HzoSneZt0OtJ"
      },
      "execution_count": 38,
      "outputs": []
    },
    {
      "cell_type": "code",
      "source": [
        "s_template = \"\"\"\n",
        "Your name is AICLASS assistant a smart, yet sassy assistant working at takenolab, your have a better knowledge of takenolab operations,\n",
        "your task is to be supportive, provide proper guidance to students that are having troubles with the course content,\n",
        "you have to answer them direct and precise, if you dont have any advice to them dont generate any respose kindly\n",
        "tell them so.\n",
        "When you receive:\n",
        "• question: the student’s problem\n",
        "• context: optionally, the content of any uploaded documents\n",
        "\n",
        "If `context` is non-empty, you **must** use it to inform your answer. If you don’t have enough information\n",
        "from the question and context combined, tell the student you can’t help further.\n",
        "\n",
        "student problem:\n",
        "{question}\n",
        "\n",
        "uploaded document context (if any):\n",
        "{context}\n",
        "\n",
        "your smart advice or solution:\n",
        "\n",
        "\"\"\"\n",
        "new_template = \"\"\"\n",
        "Your name is AICLASS assistant, a smart, yet sassy assistant working at takenolab. You have a deep knowledge of takenolab operations.\n",
        "Your task is to be supportive, provide proper guidance to students who are having trouble with the course content.\n",
        "You must answer them directly and precisely. If you don't have any advice for them, kindly tell them so and do not generate any other response.\n",
        "\n",
        "When you receive:\n",
        "• chat_history: the previous turns of the conversation (if any)\n",
        "• question: the student’s current problem\n",
        "• context: optionally, the content of any uploaded documents relevant to the current question\n",
        "\n",
        "If `context` is non-empty, you **must** use it to inform your answer. If you don’t have enough information\n",
        "from the question and context combined, tell the student you can’t help further.\n",
        "If `chat_history` is provided, use it to understand the full context of the current question.\n",
        "\n",
        "o If a student asks “What does X mean?”, you should call define_term tool.\n",
        "o If a student pastes a notes with more than 100 words, you should call summarize_notes tool and summarize the notes.\n",
        "\n",
        "<chat_history>\n",
        "{chat_history}\n",
        "</chat_history>\n",
        "\n",
        "student problem:\n",
        "{question}\n",
        "\n",
        "uploaded document context (if any):\n",
        "{context}\n",
        "\n",
        "your smart advice or solution:\n",
        "\n",
        "\"\"\"\n",
        "SUB_QUERY_TEMPLATE = \"\"\"\n",
        "You are a helpful assistant that generates multiple search queries based on a single input query.\n",
        "Generate {num_queries} diverse search queries related to the user's question, which can be used to retrieve relevant documents.\n",
        "The queries should be concise and cover different aspects or angles of the original question.\n",
        "o If a student asks “What does X mean?”, you should call define_term tool.\n",
        "o If a student pastes long notes, you should call summarize_notes tool.\n",
        "Original Question: {question}\n",
        "\n",
        "Generated Queries:\n",
        "-\n",
        "\n",
        "\"\"\""
      ],
      "metadata": {
        "id": "qeGvRozg0yD9"
      },
      "execution_count": 39,
      "outputs": []
    },
    {
      "cell_type": "code",
      "source": [
        "\n",
        "from langchain_core.prompts import PromptTemplate\n",
        "import gradio as gr\n",
        "from langchain.chains import LLMChain\n",
        "from langchain_core.documents import Document\n",
        "from typing import TypedDict, List\n",
        "from langchain_core.vectorstores import InMemoryVectorStore\n",
        "from langchain_core.messages import AIMessage, HumanMessage, BaseMessage\n",
        "from typing import Optional,Tuple, Dict\n",
        "import re\n",
        "\n",
        "vector_store = InMemoryVectorStore(embeddings)\n",
        "def call_assistant(question: str = \"\", context_docs: List[Optional[Document]] = None, chat_history: List[Tuple[str, str]] = None):\n",
        "    # Check if the question asks for a term definition\n",
        "    term_match = re.match(r\"what\\s+does\\s+(.+?)\\s+mean\\?\", question, re.IGNORECASE)\n",
        "    if term_match:\n",
        "        term = term_match.group(1).strip()\n",
        "        return define_term.invoke({\"term\": term})\n",
        "\n",
        "    word_count = len(question.split())\n",
        "    if word_count > 100:\n",
        "        return summarize_notes.invoke({\"text\": question})\n",
        "\n",
        "    prompt_template = PromptTemplate.from_template(new_template)\n",
        "    chain = prompt_template | client\n",
        "    history_str = \"\"\n",
        "    if chat_history:\n",
        "        for human_msg, ai_msg in chat_history:\n",
        "            history_str += f\"User: {human_msg}\\n Assistant: {ai_msg}\\n\"\n",
        "    context_text = \"\"\n",
        "    if context_docs:\n",
        "        context_text = \"\\n\\n\".join(d.page_content for d in context_docs)\n",
        "    response = chain.invoke({\n",
        "        \"question\": question,\n",
        "        \"context\": context_text,\n",
        "        \"chat_history\": history_str\n",
        "    })\n",
        "    return response.content\n",
        "def generate_sub_queries(original_question: str, num_queries: int = 3) -> List[str]:\n",
        "    sub_query_prompt = PromptTemplate.from_template(SUB_QUERY_TEMPLATE)\n",
        "    sub_query_chain = sub_query_prompt | client\n",
        "\n",
        "    try:\n",
        "        response = sub_query_chain.invoke({\n",
        "            \"question\": original_question,\n",
        "            \"num_queries\": num_queries\n",
        "        })\n",
        "        queries = [q.strip() for q in response.content.split('-') if q.strip() and q.strip() != \"Sub-queries:\"]\n",
        "        if not queries:\n",
        "            return [original_question]\n",
        "        return queries[:num_queries]\n",
        "    except Exception as e:\n",
        "        return [original_question]\n",
        "\n",
        "def retrieve_and_answer_with_history(question: str, chat_history: List[Dict])->str:\n",
        "    # retrieved = vector_store.similarity_search(question)\n",
        "    formatted_chat_history_for_llm = []\n",
        "    for msg in chat_history:\n",
        "        if msg[\"role\"] == \"user\":\n",
        "            current_user_msg = msg[\"content\"]\n",
        "        elif msg[\"role\"] == \"assistant\":\n",
        "            formatted_chat_history_for_llm.append((current_user_msg, msg[\"content\"]))\n",
        "            current_user_msg = None\n",
        "    if len(vector_store.store.items()) >= 0:\n",
        "        transformed_queries = generate_sub_queries(question, num_queries=3)\n",
        "        all_retrieved_docs = []\n",
        "        seen_doc_contents = set()\n",
        "        for query in transformed_queries:\n",
        "            retrieved_for_query = vector_store.similarity_search(query)\n",
        "            for doc in retrieved_for_query:\n",
        "                if doc.page_content not in seen_doc_contents:\n",
        "                    all_retrieved_docs.append(doc)\n",
        "                    seen_doc_contents.add(doc.page_content)\n",
        "        ai_response = call_assistant(question, context_docs=all_retrieved_docs, chat_history=formatted_chat_history_for_llm)\n",
        "        return ai_response\n",
        "    ai_response = call_assistant(question,chat_history=formatted_chat_history_for_llm)\n",
        "    return ai_response\n",
        "def doc_loader(file_path):\n",
        "    docs = doc_parsing(file_path)\n",
        "    if not docs:\n",
        "        return \"No content found or processed in the document.\"\n",
        "    _ = vector_store.add_documents(documents=docs)\n",
        "    return docs[0].page_content[:200] + \"...\"\n",
        "\n",
        "def interface():\n",
        "    iface = gr.ChatInterface(\n",
        "        fn=retrieve_and_answer_with_history,\n",
        "        chatbot=gr.Chatbot(height=300, label=\"AICLASS Assistant\"),\n",
        "        textbox=gr.Textbox(placeholder=\"Ask me anything...\", lines=2, submit_btn=\"Send\"),\n",
        "        title=\"Takenolab AIClass Assistant\",\n",
        "        description=\"Get course help here!\",\n",
        "    )\n",
        "    docs_interface = gr.Interface(\n",
        "        fn=doc_loader,\n",
        "        inputs=gr.File(label=\"Choose a file to upload\", type='filepath', file_count='single'),\n",
        "        outputs=gr.TextArea(),\n",
        "        description=\"Upload a document for RAG processing.\"\n",
        "    )\n",
        "    table = gr.TabbedInterface(\n",
        "        [iface,docs_interface],\n",
        "        tab_names=[\"Chat\",\"Upload File for RAG\"],\n",
        "        title=\"LLM, RAG AND PROMPTS, Text Generation\"\n",
        "    )\n",
        "    iface.launch(share=True, debug=True, show_error=True)\n"
      ],
      "metadata": {
        "id": "T6RcUBZQ0jSb"
      },
      "execution_count": 48,
      "outputs": []
    },
    {
      "cell_type": "code",
      "source": [
        "interface()"
      ],
      "metadata": {
        "colab": {
          "base_uri": "https://localhost:8080/",
          "height": 687
        },
        "id": "fuDckkzY8tFe",
        "outputId": "d4660d93-d1a6-4a63-d508-79409c1ee21c"
      },
      "execution_count": null,
      "outputs": [
        {
          "output_type": "stream",
          "name": "stderr",
          "text": [
            "/tmp/ipython-input-2207799245.py:87: UserWarning: You have not specified a value for the `type` parameter. Defaulting to the 'tuples' format for chatbot messages, but this is deprecated and will be removed in a future version of Gradio. Please set type='messages' instead, which uses openai-style dictionaries with 'role' and 'content' keys.\n",
            "  chatbot=gr.Chatbot(height=300, label=\"AICLASS Assistant\"),\n",
            "/usr/local/lib/python3.12/dist-packages/gradio/chat_interface.py:331: UserWarning: The gr.ChatInterface was not provided with a type, so the type of the gr.Chatbot, 'tuples', will be used.\n",
            "  warnings.warn(\n"
          ]
        },
        {
          "output_type": "stream",
          "name": "stdout",
          "text": [
            "Colab notebook detected. This cell will run indefinitely so that you can see errors and logs. To turn off, set debug=False in launch().\n",
            "* Running on public URL: https://a1eae838623a2bc768.gradio.live\n",
            "\n",
            "This share link expires in 1 week. For free permanent hosting and GPU upgrades, run `gradio deploy` from the terminal in the working directory to deploy to Hugging Face Spaces (https://huggingface.co/spaces)\n"
          ]
        },
        {
          "output_type": "display_data",
          "data": {
            "text/plain": [
              "<IPython.core.display.HTML object>"
            ],
            "text/html": [
              "<div><iframe src=\"https://a1eae838623a2bc768.gradio.live\" width=\"100%\" height=\"500\" allow=\"autoplay; camera; microphone; clipboard-read; clipboard-write;\" frameborder=\"0\" allowfullscreen></iframe></div>"
            ]
          },
          "metadata": {}
        }
      ]
    }
  ]
}